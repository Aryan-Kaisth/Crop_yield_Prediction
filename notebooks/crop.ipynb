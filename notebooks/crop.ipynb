version https://git-lfs.github.com/spec/v1
oid sha256:f48f39a16dda7345599ed2ce4cb2b48df32b8b8c0f1b787c527797590236e32e
size 246668
